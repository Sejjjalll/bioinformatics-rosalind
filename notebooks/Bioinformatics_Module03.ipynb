{
  "nbformat": 4,
  "nbformat_minor": 0,
  "metadata": {
    "colab": {
      "provenance": [],
      "authorship_tag": "ABX9TyMTcmWcdeD1FvMHJA/+JKEB",
      "include_colab_link": true
    },
    "kernelspec": {
      "name": "python3",
      "display_name": "Python 3"
    },
    "language_info": {
      "name": "python"
    }
  },
  "cells": [
    {
      "cell_type": "markdown",
      "metadata": {
        "id": "view-in-github",
        "colab_type": "text"
      },
      "source": [
        "<a href=\"https://colab.research.google.com/github/Sejjjalll/bioinformatics-rosalind/blob/main/notebooks/Bioinformatics_Module03.ipynb\" target=\"_parent\"><img src=\"https://colab.research.google.com/assets/colab-badge.svg\" alt=\"Open In Colab\"/></a>"
      ]
    },
    {
      "cell_type": "code",
      "execution_count": 110,
      "metadata": {
        "id": "6B7Ph8hw-M9v",
        "colab": {
          "base_uri": "https://localhost:8080/"
        },
        "outputId": "bb7f4c45-9857-473e-d65b-9c7d458e3b69"
      },
      "outputs": [
        {
          "output_type": "stream",
          "name": "stdout",
          "text": [
            "hello world\n"
          ]
        }
      ],
      "source": [
        "# print to the screen\n",
        "print(\"hello world\")"
      ]
    },
    {
      "cell_type": "code",
      "source": [
        "#  Assignment operator examples in Python\n",
        "\n",
        "x = 10\n",
        "print(\"Start value:\", x)\n",
        "\n",
        "# Addition assignment\n",
        "x += 5   # same as x = x + 5\n",
        "print(\"After x += 5:\", x)\n",
        "\n",
        "# Subtraction assignment\n",
        "x -= 3   # same as x = x - 3\n",
        "print(\"After x -= 3:\", x)\n",
        "\n",
        "# Multiplication assignment\n",
        "x *= 2   # same as x = x * 2\n",
        "print(\"After x *= 2:\", x)\n",
        "\n",
        "# Division assignment (always float)\n",
        "x /= 4   # same as x = x / 4\n",
        "print(\"After x /= 4:\", x)\n",
        "\n",
        "# Floor division assignment (integer division)\n",
        "x //= 2  # same as x = x // 2\n",
        "print(\"After x //= 2:\", x)\n",
        "\n",
        "# Modulo assignment (remainder)\n",
        "x %= 3   # same as x = x % 3\n",
        "print(\"After x %= 3:\", x)\n",
        "\n",
        "# Exponentiation assignment (power)\n",
        "x **= 4  # same as x = x ** 4\n",
        "print(\"After x **= 4:\", x)\n",
        "\n"
      ],
      "metadata": {
        "colab": {
          "base_uri": "https://localhost:8080/"
        },
        "id": "lSzznO8FEcxu",
        "outputId": "98589afb-95b5-4fe2-c7ba-39d852139247"
      },
      "execution_count": 111,
      "outputs": [
        {
          "output_type": "stream",
          "name": "stdout",
          "text": [
            "Start value: 10\n",
            "After x += 5: 15\n",
            "After x -= 3: 12\n",
            "After x *= 2: 24\n",
            "After x /= 4: 6.0\n",
            "After x //= 2: 3.0\n",
            "After x %= 3: 0.0\n",
            "After x **= 4: 0.0\n"
          ]
        }
      ]
    },
    {
      "cell_type": "code",
      "source": [
        "# Numeric type()\n",
        "\n",
        "i = 7                # int\n",
        "print(\"int:\", i, \"->\", type(i).__name__)\n",
        "\n",
        "f = 7.0              # float\n",
        "print(\"float:\", f, \"->\", type(f).__name__)\n",
        "\n",
        "my_complex = 3 + 4j  # complex\n",
        "print(\"complex:\", my_complex, \"->\", type(my_complex).__name__)\n"
      ],
      "metadata": {
        "colab": {
          "base_uri": "https://localhost:8080/"
        },
        "id": "YPFNei_7GLHA",
        "outputId": "b2903195-c571-4f1e-e867-ca080bf90861"
      },
      "execution_count": 143,
      "outputs": [
        {
          "output_type": "stream",
          "name": "stdout",
          "text": [
            "int: 7 -> int\n",
            "float: 7.0 -> float\n",
            "complex: (3+4j) -> complex\n"
          ]
        }
      ]
    },
    {
      "cell_type": "code",
      "source": [
        "# String\n",
        "s = \"7\"\n",
        "print(\"str:\", s, \"->\", type(s).__name__)\n",
        "\n",
        "# List\n",
        "lst = [1, \"two\", 3]\n",
        "print(\"list:\", lst, \"->\", type(lst).__name__)\n",
        "\n",
        "# Tuple\n",
        "tup = (1, 2, 3)\n",
        "print(\"tuple:\", tup, \"->\", type(tup).__name__)\n",
        "\n",
        "# Range\n",
        "my_range = range(1, 4)\n",
        "print(\"range:\", my_range, \"->\", type(my_range).__name__)"
      ],
      "metadata": {
        "colab": {
          "base_uri": "https://localhost:8080/"
        },
        "id": "1S2yJOUpL8ux",
        "outputId": "81c6afef-785c-4aa8-d118-25b9f53086b8"
      },
      "execution_count": 146,
      "outputs": [
        {
          "output_type": "stream",
          "name": "stdout",
          "text": [
            "str: 7 -> str\n",
            "list: [1, 'two', 3] -> list\n",
            "tuple: (1, 2, 3) -> tuple\n",
            "range: range(1, 4) -> range\n"
          ]
        }
      ]
    },
    {
      "cell_type": "code",
      "source": [
        "# Set Type\n",
        "my_set = {1, 2, 3, 3, 2}   # duplicates are removed automatically\n",
        "print(\"Set:\", my_set)\n",
        "print(\"Type of my_set:\", type(my_set))\n",
        "\n",
        "# Example with frozenset\n",
        "my_frozenset = frozenset([1, 2, 3, 3, 2])\n",
        "print(\"Frozen set:\", my_frozenset)\n",
        "print(\"Type of my_frozenset:\", type(my_frozenset))\n"
      ],
      "metadata": {
        "colab": {
          "base_uri": "https://localhost:8080/"
        },
        "id": "3UUWVQcYJRvY",
        "outputId": "269d621b-c827-41f8-e3cd-169e2ac3d8c2"
      },
      "execution_count": 114,
      "outputs": [
        {
          "output_type": "stream",
          "name": "stdout",
          "text": [
            "Set: {1, 2, 3}\n",
            "Type of my_set: <class 'set'>\n",
            "Frozen set: frozenset({1, 2, 3})\n",
            "Type of my_frozenset: <class 'frozenset'>\n"
          ]
        }
      ]
    },
    {
      "cell_type": "code",
      "source": [
        "# Mapping Type\n",
        "\n",
        "dict = {\"one\": 1, \"two\": 2, \"three\": 3}  # dict\n",
        "print(\"dict:\", dict, \"->\", type(dict).__name__)\n"
      ],
      "metadata": {
        "colab": {
          "base_uri": "https://localhost:8080/"
        },
        "id": "UgikOc4KMNrd",
        "outputId": "2f019a59-0ed2-415d-b1fd-fde439122f7f"
      },
      "execution_count": 115,
      "outputs": [
        {
          "output_type": "stream",
          "name": "stdout",
          "text": [
            "dict: {'one': 1, 'two': 2, 'three': 3} -> dict\n"
          ]
        }
      ]
    },
    {
      "cell_type": "code",
      "source": [
        "# Boolean Type\n",
        "\n",
        "boolen = True        # bool\n",
        "print(\"bool:\", boolen, \"->\", type(boolen).__name__)\n",
        "\n",
        "boolen = False\n",
        "print(\"bool:\", boolen, \"->\", type(boolen).__name__)\n"
      ],
      "metadata": {
        "colab": {
          "base_uri": "https://localhost:8080/"
        },
        "id": "d9VMPikLNsvt",
        "outputId": "4c16bb88-2240-4c19-dffe-104d848afa24"
      },
      "execution_count": 116,
      "outputs": [
        {
          "output_type": "stream",
          "name": "stdout",
          "text": [
            "bool: True -> bool\n",
            "bool: False -> bool\n"
          ]
        }
      ]
    },
    {
      "cell_type": "code",
      "source": [
        "#NoneType\n",
        "\n",
        "nonetype = None      # None\n",
        "print(\"None:\", nonetype, \"->\", type(nonetype).__name__)\n"
      ],
      "metadata": {
        "colab": {
          "base_uri": "https://localhost:8080/"
        },
        "id": "oTkv1nCOOAxp",
        "outputId": "549e74c7-8d2f-44c5-d393-91a03eba8c4f"
      },
      "execution_count": 117,
      "outputs": [
        {
          "output_type": "stream",
          "name": "stdout",
          "text": [
            "None: None -> NoneType\n"
          ]
        }
      ]
    },
    {
      "cell_type": "code",
      "source": [
        "# Rosalind Example 1: Hypotenuse squared\n",
        "\n",
        "# Take two integers as input from the user\n",
        "a = int(input(\"Enter first number a: \"))\n",
        "b = int(input(\"Enter second number b: \"))\n",
        "\n",
        "# Compute the sum of squares\n",
        "result = a**2 + b**2\n",
        "\n",
        "# Print the result\n",
        "print(result)\n"
      ],
      "metadata": {
        "colab": {
          "base_uri": "https://localhost:8080/"
        },
        "id": "-N7SXSUqOL0k",
        "outputId": "cdb5f09f-1573-44a7-976a-100e034b5acc"
      },
      "execution_count": 118,
      "outputs": [
        {
          "output_type": "stream",
          "name": "stdout",
          "text": [
            "Enter first number a: 877\n",
            "Enter second number b: 909\n",
            "1595410\n"
          ]
        }
      ]
    },
    {
      "cell_type": "code",
      "source": [
        "#Lists: create, index, replace, append, insert\n",
        "\n",
        "my_list = [\"Hello\", \"World\", \"Charles Darwin\"]\n",
        "print(my_list[1])  # World (0-based indexing)\n",
        "\n",
        "my_list[2] = \"Alfred R. Wallace\"  # replace\n",
        "my_list.append(\"Charles Darwin\")  # add back at end\n",
        "my_list.insert(1, \"Inserted item\")# insert at index 1\n",
        "print(my_list)\n"
      ],
      "metadata": {
        "colab": {
          "base_uri": "https://localhost:8080/"
        },
        "id": "iu-0cFvGXiO1",
        "outputId": "990f2304-feaa-4349-f61d-604b85028cd8"
      },
      "execution_count": 119,
      "outputs": [
        {
          "output_type": "stream",
          "name": "stdout",
          "text": [
            "World\n",
            "['Hello', 'Inserted item', 'World', 'Alfred R. Wallace', 'Charles Darwin']\n"
          ]
        }
      ]
    },
    {
      "cell_type": "code",
      "source": [
        "#Slicing lists & strings\n",
        "\n",
        "#From the list now:\n",
        "\n",
        "# [\"Hello\",\"Inserted item\",\"World\",\"Alfred R. Wallace\",\"Charles Darwin\"]\n",
        "print(my_list[2:4])  # ['World', 'Alfred R. Wallace']  (end is non-inclusive)\n"
      ],
      "metadata": {
        "colab": {
          "base_uri": "https://localhost:8080/"
        },
        "id": "v1J0hTU1XqyB",
        "outputId": "ef057308-852c-4dea-a8b5-3503e6ba929f"
      },
      "execution_count": 120,
      "outputs": [
        {
          "output_type": "stream",
          "name": "stdout",
          "text": [
            "['World', 'Alfred R. Wallace']\n"
          ]
        }
      ]
    },
    {
      "cell_type": "code",
      "source": [
        "#Strings slice\n",
        "my_string = \"HelloWorldCharlesDarwinAlfred R. Wallace\"\n",
        "print(my_string[0:5], my_string[5:10])           # Hello World\n",
        "print(my_string[33:40], my_string[5:10])         # Wallace World (adjust if needed)\n"
      ],
      "metadata": {
        "colab": {
          "base_uri": "https://localhost:8080/"
        },
        "id": "pam8_RSAY6AV",
        "outputId": "acb1edd7-8378-41d6-8f8a-f7e4565ca7f0"
      },
      "execution_count": 121,
      "outputs": [
        {
          "output_type": "stream",
          "name": "stdout",
          "text": [
            "Hello World\n",
            "Wallace World\n"
          ]
        }
      ]
    },
    {
      "cell_type": "code",
      "source": [
        "#Rosalind #2 (Strings & Lists):\n",
        "# Read input\n",
        "s = input().strip()\n",
        "a, b, c, d = map(int, input().split())\n",
        "\n",
        "# Slice inclusively\n",
        "part1 = s[a:b+1]\n",
        "part2 = s[c:d+1]\n",
        "\n",
        "# Output\n",
        "print(part1, part2)\n"
      ],
      "metadata": {
        "colab": {
          "base_uri": "https://localhost:8080/"
        },
        "id": "CRn5AmarZ-E0",
        "outputId": "11b784d3-eb4c-42b8-fc12-afdb395703f7"
      },
      "execution_count": 123,
      "outputs": [
        {
          "output_type": "stream",
          "name": "stdout",
          "text": [
            "E20xhXtXO3fQ14wBBau8GzZQNr2w2TWRjVMxWeSW1fAiMg9oRrlYu9ffShcoe3ge79Hd4UYmrRUacEnhydris9RUmacquenifiDXzRW6SeLEgN0GbZGIFKMN3ACUraN7MFgHjj3WkuYz5BZBqBy5leamdZj2BCfuU0e0Qblrmg4O6Ov1qa6t6Uky5bO.\n",
            "77 84 88 95\n",
            "Enhydris macqueni\n"
          ]
        }
      ]
    },
    {
      "cell_type": "code",
      "source": [
        "# Input two numbers\n",
        "x = int(input(\"Enter first number: \"))\n",
        "y = int(input(\"Enter second number: \"))\n",
        "\n",
        "# If they are different, subtract\n",
        "if x != y:\n",
        "    print(\"Result:\", x - y)\n",
        "else:\n",
        "    print(\"Result:\", x + y)\n",
        "\n"
      ],
      "metadata": {
        "colab": {
          "base_uri": "https://localhost:8080/"
        },
        "id": "314ZPEFEa9Nf",
        "outputId": "50481ed2-387a-471b-c812-cffc5bcab9a6"
      },
      "execution_count": 124,
      "outputs": [
        {
          "output_type": "stream",
          "name": "stdout",
          "text": [
            "Enter first number: 5\n",
            "Enter second number: 5\n",
            "Result: 10\n"
          ]
        }
      ]
    },
    {
      "cell_type": "code",
      "source": [
        "#while loop\n",
        "i = 1\n",
        "while i <= 3:\n",
        "    print(\"Counting!\")\n",
        "    i += 1\n"
      ],
      "metadata": {
        "colab": {
          "base_uri": "https://localhost:8080/"
        },
        "id": "G41Omw52cNPK",
        "outputId": "0efa60de-c75a-4da0-8ce2-54fb1824f13f"
      },
      "execution_count": 125,
      "outputs": [
        {
          "output_type": "stream",
          "name": "stdout",
          "text": [
            "Counting!\n",
            "Counting!\n",
            "Counting!\n"
          ]
        }
      ]
    },
    {
      "cell_type": "code",
      "source": [
        "names = [\"Alice\", \"Bob\", \"Charley\"]\n",
        "\n",
        "for name in names:\n",
        "    print(\"Hello\", name)\n"
      ],
      "metadata": {
        "colab": {
          "base_uri": "https://localhost:8080/"
        },
        "id": "TlQtzQkycw7_",
        "outputId": "c07d4557-71ed-4375-8118-041a96930b27"
      },
      "execution_count": 126,
      "outputs": [
        {
          "output_type": "stream",
          "name": "stdout",
          "text": [
            "Hello Alice\n",
            "Hello Bob\n",
            "Hello Charley\n"
          ]
        }
      ]
    },
    {
      "cell_type": "code",
      "source": [
        "iterations = 10\n",
        "for number in range(iterations):\n",
        "    print(number)\n"
      ],
      "metadata": {
        "colab": {
          "base_uri": "https://localhost:8080/"
        },
        "id": "ULwPLMr3dyKH",
        "outputId": "712742b7-030b-4343-f686-f05f1b378087"
      },
      "execution_count": 147,
      "outputs": [
        {
          "output_type": "stream",
          "name": "stdout",
          "text": [
            "0\n",
            "1\n",
            "2\n",
            "3\n",
            "4\n",
            "5\n",
            "6\n",
            "7\n",
            "8\n",
            "9\n"
          ]
        }
      ]
    },
    {
      "cell_type": "code",
      "source": [
        "for n in range(9, 28, 3):\n",
        "    print(n)\n"
      ],
      "metadata": {
        "colab": {
          "base_uri": "https://localhost:8080/"
        },
        "id": "LvRtLK4TjBtk",
        "outputId": "c96ee52e-08c8-4bb8-b53b-554af2b87450"
      },
      "execution_count": 148,
      "outputs": [
        {
          "output_type": "stream",
          "name": "stdout",
          "text": [
            "9\n",
            "12\n",
            "15\n",
            "18\n",
            "21\n",
            "24\n",
            "27\n"
          ]
        }
      ]
    },
    {
      "cell_type": "code",
      "source": [
        "#Rosalind #3 (Conditions & Loops):\n",
        "\n",
        "# Rosalind: Conditions and Loops\n",
        "a, b = map(int, input().split())\n",
        "\n",
        "total = 0\n",
        "for n in range(a, b+1):\n",
        "    if n % 2 == 1:\n",
        "        total += n\n",
        "\n",
        "print(total)\n",
        "\n",
        "\n"
      ],
      "metadata": {
        "colab": {
          "base_uri": "https://localhost:8080/"
        },
        "id": "VMqxq9pCjSIC",
        "outputId": "aedabbb0-ebd0-4ba4-dee1-53a29267a211"
      },
      "execution_count": 151,
      "outputs": [
        {
          "output_type": "stream",
          "name": "stdout",
          "text": [
            "4975 9539\n",
            "16567731\n"
          ]
        }
      ]
    },
    {
      "cell_type": "code",
      "source": [
        "#File I/O with\n",
        "# read()\n",
        "with open(\"practice.txt\",\"r\") as data:\n",
        "    print(data.read())\n",
        "\n",
        "\n"
      ],
      "metadata": {
        "colab": {
          "base_uri": "https://localhost:8080/"
        },
        "id": "JxUGQRPClB7J",
        "outputId": "91bcb09c-81d3-4f33-851e-c2556f80343b"
      },
      "execution_count": 154,
      "outputs": [
        {
          "output_type": "stream",
          "name": "stdout",
          "text": [
            "Bravely bold Sir Robin rode forth from Camelot\n",
            "Yes, brave Sir Robin turned about\n",
            "He was not afraid to die, O brave Sir Robin\n",
            "And gallantly he chickened out\n",
            "He was not at all afraid to be killed in nasty ways\n",
            "Bravely talking to his feet\n",
            "Brave, brave, brave, brave Sir Robin\n",
            "He beat a very brave retreat\n"
          ]
        }
      ]
    },
    {
      "cell_type": "code",
      "source": [
        "# read()\n",
        "with open(\"practice.txt\",\"r\") as data:\n",
        "    print(data.read())\n",
        "# readline()\n",
        "with open(\"practice.txt\",\"r\") as data:\n",
        "    print(data.readline())\n",
        "\n",
        "# readlines()\n",
        "with open(\"practice.txt\",\"r\") as data:\n",
        "    print(data.readlines())"
      ],
      "metadata": {
        "colab": {
          "base_uri": "https://localhost:8080/"
        },
        "id": "7KAsxQ8PlnMY",
        "outputId": "ee909082-d94a-4085-ecae-64cc0a2a262b"
      },
      "execution_count": 156,
      "outputs": [
        {
          "output_type": "stream",
          "name": "stdout",
          "text": [
            "Bravely bold Sir Robin rode forth from Camelot\n",
            "Yes, brave Sir Robin turned about\n",
            "He was not afraid to die, O brave Sir Robin\n",
            "And gallantly he chickened out\n",
            "He was not at all afraid to be killed in nasty ways\n",
            "Bravely talking to his feet\n",
            "Brave, brave, brave, brave Sir Robin\n",
            "He beat a very brave retreat\n",
            "Bravely bold Sir Robin rode forth from Camelot\n",
            "\n",
            "['Bravely bold Sir Robin rode forth from Camelot\\n', 'Yes, brave Sir Robin turned about\\n', 'He was not afraid to die, O brave Sir Robin\\n', 'And gallantly he chickened out\\n', 'He was not at all afraid to be killed in nasty ways\\n', 'Bravely talking to his feet\\n', 'Brave, brave, brave, brave Sir Robin\\n', 'He beat a very brave retreat']\n"
          ]
        }
      ]
    },
    {
      "cell_type": "code",
      "source": [
        "# readlines()\n",
        "with open(\"practice.txt\",\"r\") as data:\n",
        "    print(data.readlines())"
      ],
      "metadata": {
        "colab": {
          "base_uri": "https://localhost:8080/"
        },
        "id": "_tS8fvGHmGb_",
        "outputId": "1704d2da-e617-4e61-ebd1-c08157c4474b"
      },
      "execution_count": 157,
      "outputs": [
        {
          "output_type": "stream",
          "name": "stdout",
          "text": [
            "['Bravely bold Sir Robin rode forth from Camelot\\n', 'Yes, brave Sir Robin turned about\\n', 'He was not afraid to die, O brave Sir Robin\\n', 'And gallantly he chickened out\\n', 'He was not at all afraid to be killed in nasty ways\\n', 'Bravely talking to his feet\\n', 'Brave, brave, brave, brave Sir Robin\\n', 'He beat a very brave retreat']\n"
          ]
        }
      ]
    },
    {
      "cell_type": "code",
      "source": [
        "#Store lines & join()\n",
        "\n",
        "with open(\"practice.txt\") as f:\n",
        "    list_of_lines = f.readlines()\n",
        "print(\"\".join(list_of_lines))  # looks like original file\n"
      ],
      "metadata": {
        "colab": {
          "base_uri": "https://localhost:8080/"
        },
        "id": "38XVtbrNmVFL",
        "outputId": "ed9c8c32-9e7b-4a12-b492-dad12733f4d2"
      },
      "execution_count": 158,
      "outputs": [
        {
          "output_type": "stream",
          "name": "stdout",
          "text": [
            "Bravely bold Sir Robin rode forth from Camelot\n",
            "Yes, brave Sir Robin turned about\n",
            "He was not afraid to die, O brave Sir Robin\n",
            "And gallantly he chickened out\n",
            "He was not at all afraid to be killed in nasty ways\n",
            "Bravely talking to his feet\n",
            "Brave, brave, brave, brave Sir Robin\n",
            "He beat a very brave retreat\n"
          ]
        }
      ]
    },
    {
      "cell_type": "code",
      "source": [
        "#For-loop over file; trimming newlines\n",
        "with open(\"practice.txt\") as data:\n",
        "    for line in data:\n",
        "        print(line.rstrip())\n"
      ],
      "metadata": {
        "colab": {
          "base_uri": "https://localhost:8080/"
        },
        "id": "c6i6xl9Fmccg",
        "outputId": "b09244b3-92f1-4580-ef61-df5adbe38e00"
      },
      "execution_count": 159,
      "outputs": [
        {
          "output_type": "stream",
          "name": "stdout",
          "text": [
            "Bravely bold Sir Robin rode forth from Camelot\n",
            "Yes, brave Sir Robin turned about\n",
            "He was not afraid to die, O brave Sir Robin\n",
            "And gallantly he chickened out\n",
            "He was not at all afraid to be killed in nasty ways\n",
            "Bravely talking to his feet\n",
            "Brave, brave, brave, brave Sir Robin\n",
            "He beat a very brave retreat\n"
          ]
        }
      ]
    },
    {
      "cell_type": "code",
      "source": [
        "#Rosalind #4\n",
        "# Rosalind: Working with Files\n",
        "with open(\"rosalind_ini5.txt\") as f:\n",
        "    for line_number, line in enumerate(f, start=1):\n",
        "        if line_number % 2 == 0:    # even-numbered lines\n",
        "            print(line.rstrip())\n"
      ],
      "metadata": {
        "colab": {
          "base_uri": "https://localhost:8080/"
        },
        "id": "sBRcooi9mhHq",
        "outputId": "01c4e6b7-4d31-4a80-c4b8-41320f63695a"
      },
      "execution_count": 160,
      "outputs": [
        {
          "output_type": "stream",
          "name": "stdout",
          "text": [
            "Some things in life are bad, they can really make you mad\n",
            "Other things just make you swear and curse\n",
            "When you're chewing on life's gristle, don't grumble give a whistle\n",
            "This will help things turn out for the best\n",
            "Always look on the bright side of life\n",
            "Always look on the right side of life\n",
            "If life seems jolly rotten, there's something you've forgotten\n",
            "And that's to laugh and smile and dance and sing\n",
            "When you're feeling in the dumps, don't be silly, chumps\n",
            "Just purse your lips and whistle, that's the thing\n",
            "So, always look on the bright side of death\n",
            "Just before you draw your terminal breath\n",
            "Life's a counterfeit and when you look at it\n",
            "Life's a laugh and death's the joke, it's true\n",
            "You see, it's all a show, keep them laughing as you go\n",
            "Just remember the last laugh is on you\n",
            "Always look on the bright side of life\n",
            "And always look on the right side of life\n",
            "Always look on the bright side of life\n",
            "And always look on the right side of life\n"
          ]
        }
      ]
    },
    {
      "cell_type": "code",
      "source": [
        "#P16. Splitting text by whitespace\n",
        "with open(\"practice_5.txt\") as f:\n",
        "    for line in f:\n",
        "        for word in line.split():\n",
        "            print(word)\n"
      ],
      "metadata": {
        "colab": {
          "base_uri": "https://localhost:8080/"
        },
        "id": "153yJ0QynUhd",
        "outputId": "385668fc-b69b-44ae-97b5-e4cbb20c1252"
      },
      "execution_count": 161,
      "outputs": [
        {
          "output_type": "stream",
          "name": "stdout",
          "text": [
            "We\n",
            "tried\n",
            "list\n",
            "and\n",
            "we\n",
            "tried\n",
            "dicts\n",
            "also\n",
            "we\n",
            "tried\n",
            "Zen.\n"
          ]
        }
      ]
    },
    {
      "cell_type": "code",
      "source": [
        "#P17. Dictionaries {} (keys → values)\n",
        "sequences = {\n",
        "    \"H.sapiens\": \"ATGCGT\",\n",
        "    \"P.troglodytes\": \"ATGCGC\",\n",
        "    \"G.gorilla\": \"ATGAGT\",\n",
        "}\n",
        "print(sequences[\"H.sapiens\"])  # prints a specific value\n"
      ],
      "metadata": {
        "colab": {
          "base_uri": "https://localhost:8080/"
        },
        "id": "-66HknLin7vX",
        "outputId": "7b0e86e3-5ccd-45c0-f5b5-d07c0f4015f4"
      },
      "execution_count": 167,
      "outputs": [
        {
          "output_type": "stream",
          "name": "stdout",
          "text": [
            "ATGCGT\n"
          ]
        }
      ]
    },
    {
      "cell_type": "code",
      "source": [
        "#P18. Update & print dictionaries + write FASTA\n",
        "# Update\n",
        "sequences[\"P.paniscus\"] = \"ATGCGG\"\n",
        "sequences.update({\"H.neanderthalensis\": \"ATGCCC\"})\n",
        "\n",
        "# Print all key:value pairs\n",
        "for k, v in sequences.items():\n",
        "    print(k, v)\n",
        "\n",
        "# Write to FASTA\n",
        "with open(\"hominids.fasta\", \"w\") as out:\n",
        "    for sp, seq in sequences.items():\n",
        "        out.write(f\">{sp}\\n{seq}\\n\")\n"
      ],
      "metadata": {
        "colab": {
          "base_uri": "https://localhost:8080/"
        },
        "id": "m6e4WEbHoJa5",
        "outputId": "f1fcffe5-893e-4edd-d07b-2d57416954bf"
      },
      "execution_count": 168,
      "outputs": [
        {
          "output_type": "stream",
          "name": "stdout",
          "text": [
            "H.sapiens ATGCGT\n",
            "P.troglodytes ATGCGC\n",
            "G.gorilla ATGAGT\n",
            "P.paniscus ATGCGG\n",
            "H.neanderthalensis ATGCCC\n"
          ]
        }
      ]
    },
    {
      "cell_type": "code",
      "source": [
        "#Rosalind #5\n",
        "\n",
        "from collections import defaultdict\n",
        "\n",
        "# Count words from file\n",
        "counts = defaultdict(int)\n",
        "with open(\"rosalind_ini6.txt\", \"r\", encoding=\"utf-8\") as f:\n",
        "    for line in f:\n",
        "        for w in line.split():      # split on whitespace; case-sensitive\n",
        "            counts[w] += 1\n",
        "\n",
        "# Print to screen (optional)\n",
        "for w, c in counts.items():\n",
        "    print(w, c)\n",
        "\n",
        "# Also write to an output file\n",
        "with open(\"rosalind_ini6_out.txt\", \"w\", encoding=\"utf-8\") as out:\n",
        "    for w, c in counts.items():     # any order is acceptable\n",
        "        out.write(f\"{w} {c}\\n\")\n",
        "\n",
        "\n"
      ],
      "metadata": {
        "colab": {
          "base_uri": "https://localhost:8080/"
        },
        "id": "jsJbuMmFqkEW",
        "outputId": "7b13e517-f0f6-4127-c87b-096ae8af7b20"
      },
      "execution_count": 182,
      "outputs": [
        {
          "output_type": "stream",
          "name": "stdout",
          "text": [
            "When 1\n",
            "I 2\n",
            "find 1\n",
            "myself 1\n",
            "in 4\n",
            "times 1\n",
            "of 11\n",
            "trouble 1\n",
            "Mother 2\n",
            "Mary 2\n",
            "comes 2\n",
            "to 3\n",
            "me 4\n",
            "Speaking 3\n",
            "words 7\n",
            "wisdom 7\n",
            "let 30\n",
            "it 36\n",
            "be 41\n",
            "And 3\n",
            "my 1\n",
            "hour 1\n",
            "darkness 1\n",
            "she 1\n",
            "is 4\n",
            "standing 1\n",
            "right 1\n",
            "front 1\n",
            "Let 6\n",
            "Whisper 4\n",
            "when 2\n",
            "the 4\n",
            "broken 1\n",
            "hearted 1\n",
            "people 1\n",
            "living 1\n",
            "world 1\n",
            "agree 1\n",
            "There 4\n",
            "will 5\n",
            "an 4\n",
            "answer 4\n",
            "For 1\n",
            "though 1\n",
            "they 2\n",
            "may 1\n",
            "parted 1\n",
            "there 2\n",
            "still 2\n",
            "a 2\n",
            "chance 1\n",
            "that 2\n",
            "see 1\n",
            "night 1\n",
            "cloudy 1\n",
            "light 1\n",
            "shines 1\n",
            "on 1\n",
            "Shine 1\n",
            "until 1\n",
            "tomorrow 1\n",
            "wake 1\n",
            "up 1\n",
            "sound 1\n",
            "music 1\n",
            "yeah 2\n"
          ]
        }
      ]
    },
    {
      "cell_type": "code",
      "source": [
        "#P19. count() + DNA nucleotides\n",
        "#Rosalind #6\n",
        "# Read DNA from 'rosalind_dna.txt' and print counts A C G T\n",
        "with open(\"rosalind_dna.txt\", \"r\", encoding=\"utf-8\") as f:\n",
        "    s = f.read().strip()\n",
        "\n",
        "print(s.count('A'), s.count('C'), s.count('G'), s.count('T'))\n",
        "\n"
      ],
      "metadata": {
        "colab": {
          "base_uri": "https://localhost:8080/"
        },
        "id": "L0vV1OarrS3f",
        "outputId": "ff7449cd-380f-4bfd-8536-d64a68dae978"
      },
      "execution_count": 185,
      "outputs": [
        {
          "output_type": "stream",
          "name": "stdout",
          "text": [
            "242 258 228 272\n"
          ]
        }
      ]
    },
    {
      "cell_type": "code",
      "source": [
        "!pip install biopython\n"
      ],
      "metadata": {
        "colab": {
          "base_uri": "https://localhost:8080/"
        },
        "id": "Qz6wKsO4zYFA",
        "outputId": "dfaa4084-b2c2-41ac-94f3-491c07ed5ffb"
      },
      "execution_count": 189,
      "outputs": [
        {
          "output_type": "stream",
          "name": "stdout",
          "text": [
            "Requirement already satisfied: biopython in /usr/local/lib/python3.12/dist-packages (1.85)\n",
            "Requirement already satisfied: numpy in /usr/local/lib/python3.12/dist-packages (from biopython) (2.0.2)\n"
          ]
        }
      ]
    },
    {
      "cell_type": "code",
      "source": [
        "# Quick Biopython sanity check\n",
        "import Bio\n",
        "from Bio.Seq import Seq\n",
        "\n",
        "print(\"Biopython version:\", Bio.__version__)  # should print a version like 1.84+\n",
        "\n",
        "# Minimal functional check: make a Seq and call a method\n",
        "test = Seq(\"ACGT\")\n",
        "print(\"Complement OK:\", test.complement())    # should print 'TGCA'\n"
      ],
      "metadata": {
        "colab": {
          "base_uri": "https://localhost:8080/"
        },
        "id": "NBrX1CST2mFC",
        "outputId": "7b441500-02a2-48a0-a6cc-f8883391b5b6"
      },
      "execution_count": 197,
      "outputs": [
        {
          "output_type": "stream",
          "name": "stdout",
          "text": [
            "Biopython version: 1.85\n",
            "Complement OK: TGCA\n"
          ]
        }
      ]
    },
    {
      "cell_type": "code",
      "source": [
        "#P21 — Seq() basics you’ll use\n",
        "from Bio.Seq import Seq\n",
        "\n",
        "my_sequence = Seq(\"GATGGAACTTGACTACGTAAATT\")  # any DNA string\n",
        "print(\"Complement:\", my_sequence.complement())\n",
        "print(\"RevComp  :\", my_sequence.reverse_complement())\n",
        "print(\"RNA      :\", my_sequence.transcribe())\n",
        "print(\"Protein  :\", my_sequence.transcribe().translate())\n"
      ],
      "metadata": {
        "colab": {
          "base_uri": "https://localhost:8080/"
        },
        "id": "ba4K9YlY2nh9",
        "outputId": "166e3e6e-e358-4bdb-83da-510963d684e0"
      },
      "execution_count": 198,
      "outputs": [
        {
          "output_type": "stream",
          "name": "stdout",
          "text": [
            "Complement: CTACCTTGAACTGATGCATTTAA\n",
            "RevComp  : AATTTACGTAGTCAAGTTCCATC\n",
            "RNA      : GAUGGAACUUGACUACGUAAAUU\n",
            "Protein  : DGT*LRK\n"
          ]
        }
      ]
    },
    {
      "cell_type": "code",
      "source": [
        "#Rosalind #7\n",
        "from Bio.Seq import Seq\n",
        "\n",
        "with open(\"rosalind_rna.txt\", \"r\", encoding=\"utf-8\") as f:\n",
        "    dna = f.read().strip()\n",
        "\n",
        "print(Seq(dna).transcribe())   # same output\n",
        "\n"
      ],
      "metadata": {
        "colab": {
          "base_uri": "https://localhost:8080/"
        },
        "id": "p6wR5kAn2saQ",
        "outputId": "2d15e40d-7c55-4bdc-c03b-edeb96f35b6a"
      },
      "execution_count": 206,
      "outputs": [
        {
          "output_type": "stream",
          "name": "stdout",
          "text": [
            "UAUAGCAAUGUGGCUAGAGAGAGCGGUUAAGAAAACCUACGGUGAGUCCGUCAGGCACAGCACGCACGCAGCGUGACCAGCAGGCCGUCCUUUGGGAAGUCCUUUGGGUGAGUAAGGCGCGAACAGUUAGCAGAAUCCAAGAGCAUCCGGCACCUAGUCCGGUUUUACGUGUGCUCAUAGUGGUCGCCUGGGGCUACCAGUACUAGUAAGUCUUCGAACAUCCGCGCGCCGUUUCGGCAGAACGUCUUCCUAAGCCUCGGGGGAGACUUGAGGGCCCCCGCGCACGCAGUAGCUAAAAUAUUACGGGAAAGAAAUCUUACCAGGGGGGUCUAUAUAUAGGUCGGGGCUAUCUUCAGUAUUCAAACAGACAAGACCUGGCUCCCGCGGCAGCAGUUUUUGCACAUGCGCUGUAGAGGCCGCAGUGGCCAAAUCACGGGCUAUGGACAGUUCAAGCUGUUUAGGUUUACUCCCGCGACCCCUCGACUCGUAUCGACUAAAGGUAGCUCGAGGCAGACGAAGAGUGUCACAAAGGAGUACAUCGGAGUGGAUAACAACUGAGGCGAGCCUAUCGCCGGACUUCACUAGGUCCGGUAAGAUACUCGAUAGUAAUUAACUUGUCAAACAGGUAUCUAGUAUCACUCCUAUUUCCGCAAGUGGGUUGAUAGGCCUGUCGUGUUUUUCUGAAACCAUUGCUCUCUCUCAUAUGGCGCUUUGCGCGGCUAGGAAUGACAAUGUCGUGGUUUCUGCGAAGCACAGCGUUCGCAGCUCACAACCCCUCUGUGGACCAUCGCCUUCUCUGGUUUCUGUCACCGGCUCUGAAGAGUACCGCCCCCCGCACGCGAGUUCAGACGGCCCGAUCGGUUAACUGUGAAGAUAUAUGGGUGUCAACUGAAGUGCGGGUUUCCGAAGAAGCAAAGCGGCGUGGUUUAUUCGCCUUCUCAACAGACGCAGUGGCGAGGCAGUCGCGACC\n"
          ]
        }
      ]
    },
    {
      "cell_type": "code",
      "source": [],
      "metadata": {
        "id": "LHWYrvHN2ws4"
      },
      "execution_count": null,
      "outputs": []
    }
  ]
}